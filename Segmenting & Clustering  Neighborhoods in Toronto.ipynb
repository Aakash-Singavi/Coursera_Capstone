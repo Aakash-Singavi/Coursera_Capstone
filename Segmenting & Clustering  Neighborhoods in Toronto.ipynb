{
    "cells": [
        {
            "cell_type": "markdown",
            "metadata": {
                "collapsed": true
            },
            "source": "### To create a dataframe from the given wikipedia data"
        },
        {
            "cell_type": "code",
            "execution_count": 54,
            "metadata": {},
            "outputs": [],
            "source": "import requests\nimport pandas as pd"
        },
        {
            "cell_type": "markdown",
            "metadata": {},
            "source": "#### To process the data such that the Borough colum does not contain 'Not assigned'  values"
        },
        {
            "cell_type": "code",
            "execution_count": 65,
            "metadata": {
                "scrolled": false
            },
            "outputs": [],
            "source": "url = \"https://en.wikipedia.org/wiki/List_of_postal_codes_of_Canada:_M\"\ndata = requests.get(url)\n\ndf_data = pd.read_html(data.content,header = 0)[0]\ndf_data = df_data[df_data.Borough!= 'Not assigned']\ndf_data"
        },
        {
            "cell_type": "markdown",
            "metadata": {},
            "source": "#### To merge rows so that there is no repetition of postal code"
        },
        {
            "cell_type": "code",
            "execution_count": 64,
            "metadata": {
                "scrolled": false
            },
            "outputs": [],
            "source": "df_data = df_data.groupby(['Postal Code','Borough'])['Neighborhood'].apply(lambda x: ','.join(x))\ndf_data = df_data.reset_index()\ndf_data"
        },
        {
            "cell_type": "markdown",
            "metadata": {},
            "source": "#### To check if the neighborhood column has 'Not asigned values' "
        },
        {
            "cell_type": "code",
            "execution_count": 59,
            "metadata": {},
            "outputs": [
                {
                    "data": {
                        "text/html": "<div>\n<style scoped>\n    .dataframe tbody tr th:only-of-type {\n        vertical-align: middle;\n    }\n\n    .dataframe tbody tr th {\n        vertical-align: top;\n    }\n\n    .dataframe thead th {\n        text-align: right;\n    }\n</style>\n<table border=\"1\" class=\"dataframe\">\n  <thead>\n    <tr style=\"text-align: right;\">\n      <th></th>\n      <th>Postal Code</th>\n      <th>Borough</th>\n      <th>Neighborhood</th>\n    </tr>\n  </thead>\n  <tbody>\n  </tbody>\n</table>\n</div>",
                        "text/plain": "Empty DataFrame\nColumns: [Postal Code, Borough, Neighborhood]\nIndex: []"
                    },
                    "execution_count": 59,
                    "metadata": {},
                    "output_type": "execute_result"
                }
            ],
            "source": "df_data.loc[df_data.Neighborhood == 'Not assined']"
        },
        {
            "cell_type": "markdown",
            "metadata": {},
            "source": "##### Above result shows no such row present in Neighborhood column"
        },
        {
            "cell_type": "markdown",
            "metadata": {},
            "source": "#### Even if were present,  to replace them with the values of their respective Boroughs "
        },
        {
            "cell_type": "code",
            "execution_count": 62,
            "metadata": {},
            "outputs": [],
            "source": "df_data.Neighborhood.replace('Not assigned',df_data.Borough,inplace=True)\n"
        },
        {
            "cell_type": "code",
            "execution_count": 63,
            "metadata": {},
            "outputs": [
                {
                    "data": {
                        "text/plain": "(103, 3)"
                    },
                    "execution_count": 63,
                    "metadata": {},
                    "output_type": "execute_result"
                }
            ],
            "source": "df_data.shape"
        },
        {
            "cell_type": "code",
            "execution_count": null,
            "metadata": {},
            "outputs": [],
            "source": ""
        }
    ],
    "metadata": {
        "kernelspec": {
            "display_name": "Python 3.6",
            "language": "python",
            "name": "python3"
        },
        "language_info": {
            "codemirror_mode": {
                "name": "ipython",
                "version": 3
            },
            "file_extension": ".py",
            "mimetype": "text/x-python",
            "name": "python",
            "nbconvert_exporter": "python",
            "pygments_lexer": "ipython3",
            "version": "3.6.9"
        }
    },
    "nbformat": 4,
    "nbformat_minor": 1
}